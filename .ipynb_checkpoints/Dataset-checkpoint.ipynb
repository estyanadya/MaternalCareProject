{
 "cells": [
  {
   "cell_type": "markdown",
   "id": "4962bfc5-868b-40c7-9de0-b231feb1eb18",
   "metadata": {},
   "source": [
    "# Maternal Care Project\n",
    "Maternal Care Project (**MCP**) is a module for automatically generated advice for healthcare providers based on a personalised patient condition.\n",
    "This module contains:\n",
    "\n",
    "- Case samples generator\n",
    "- Prompt generator\n",
    "- *GPT* API\n"
   ]
  },
  {
   "cell_type": "markdown",
   "id": "7c11b735-73ab-4717-b9e5-c8b226d0eac5",
   "metadata": {},
   "source": [
    "## Case samples generator"
   ]
  },
  {
   "cell_type": "code",
   "execution_count": 1,
   "id": "6d641640-2e1d-4e8c-a50e-321f13d69e67",
   "metadata": {},
   "outputs": [],
   "source": [
    "import pandas as pd"
   ]
  },
  {
   "cell_type": "code",
   "execution_count": 2,
   "id": "839778b6-edc0-44c5-b286-0e2f883d7e9d",
   "metadata": {},
   "outputs": [
    {
     "name": "stdout",
     "output_type": "stream",
     "text": [
      "   ID Number  Age  Gestational Age  Gravida  Partus  Abortus  \\\n",
      "0   20240001   28               20        1       0        0   \n",
      "1   20240002   34               39        1       0        0   \n",
      "2   20240003   40               36        1       0        0   \n",
      "3   20240004   25               40        1       0        0   \n",
      "4   20240005   37               37        1       0        0   \n",
      "\n",
      "   History of Postpartum Hemorrhage  History of Hypertension  \\\n",
      "0                             False                    False   \n",
      "1                              True                    False   \n",
      "2                             False                     True   \n",
      "3                             False                    False   \n",
      "4                             False                    False   \n",
      "\n",
      "   History of Anemia  History of Kidney Disease  History of Heart Disease  \\\n",
      "0              False                      False                     False   \n",
      "1              False                      False                     False   \n",
      "2              False                      False                     False   \n",
      "3              False                      False                     False   \n",
      "4               True                       True                      True   \n",
      "\n",
      "   Systole  Diastole  Hb  Urine protein level  \n",
      "0      120        80  11                  200  \n",
      "1      120        80  11                  200  \n",
      "2      120        80  11                  200  \n",
      "3      120        80  11                  200  \n",
      "4      120        80  11                  200  \n"
     ]
    }
   ],
   "source": [
    "\"\"\" Initialize dataframe \"\"\"\n",
    "\n",
    "data = {\n",
    "    'ID Number': [20240001, 20240002, 20240003, 20240004, 20240005],\n",
    "    'Age': [28, 34, 40, 25, 37],\n",
    "    'Gestational Age': [20, 39, 36, 40, 37],\n",
    "    'Gravida': [1, 1, 1, 1, 1],\n",
    "    'Partus': [0, 0, 0, 0, 0],\n",
    "    'Abortus': [0, 0, 0, 0, 0],\n",
    "    'History of Postpartum Hemorrhage': [False, True, False, False, False],\n",
    "    'History of Hypertension': [False, False, True, False, False],\n",
    "    'History of Anemia': [False, False, False, False, True],\n",
    "    'History of Kidney Disease': [False, False, False, False, True],\n",
    "    'History of Heart Disease': [False, False, False, False, True], \n",
    "    'Systole': [120, 120, 120, 120, 120],\n",
    "    'Diastole': [80, 80, 80, 80, 80], \n",
    "    'Hb': [11, 11, 11, 11, 11],\n",
    "    'Urine protein level': [200, 200, 200, 200, 200]\n",
    "}\n",
    "\n",
    "# Create the DataFrame from dictionary\n",
    "df = pd.DataFrame(data)\n",
    "print(df)"
   ]
  },
  {
   "cell_type": "code",
   "execution_count": 3,
   "id": "b4044c30-c473-47b3-8b83-0123ac0eeedd",
   "metadata": {},
   "outputs": [
    {
     "name": "stdout",
     "output_type": "stream",
     "text": [
      "   ID Number  Age  Gestational Age  Gravida  Partus  Abortus  \\\n",
      "0   20240001   28               20        1       0        0   \n",
      "1   20240002   34               39        1       0        0   \n",
      "2   20240003   40               36        1       0        0   \n",
      "3   20240004   25               40        1       0        0   \n",
      "4   20240005   37               37        1       0        0   \n",
      "5   20240006   25               30        1       0        0   \n",
      "\n",
      "   History of Postpartum Hemorrhage  History of Hypertension  \\\n",
      "0                             False                    False   \n",
      "1                              True                    False   \n",
      "2                             False                     True   \n",
      "3                             False                    False   \n",
      "4                             False                    False   \n",
      "5                             False                    False   \n",
      "\n",
      "   History of Anemia  History of Kidney Disease  History of Heart Disease  \\\n",
      "0              False                      False                     False   \n",
      "1              False                      False                     False   \n",
      "2              False                      False                     False   \n",
      "3              False                      False                     False   \n",
      "4               True                       True                      True   \n",
      "5              False                      False                     False   \n",
      "\n",
      "   Systole  Diastole  Hb  Urine protein level  \n",
      "0      120        80  11                  200  \n",
      "1      120        80  11                  200  \n",
      "2      120        80  11                  200  \n",
      "3      120        80  11                  200  \n",
      "4      120        80  11                  200  \n",
      "5      120        80  11                  200  \n"
     ]
    }
   ],
   "source": [
    "\"\"\" Add customized sample on a new row \"\"\"\n",
    "\n",
    "last_id_number = df['ID Number'].max()\n",
    "new_id_number = last_id_number + 1\n",
    "\n",
    "# customize the data below\n",
    "age = 25\n",
    "gestational_age = 30\n",
    "gravida = 1\n",
    "partus = 0\n",
    "abortus = 0\n",
    "history_postpartum = False\n",
    "history_hypertension = False\n",
    "history_anemia = False\n",
    "history_kidney_disease = False\n",
    "history_heart_disease = False\n",
    "systole = 120\n",
    "diastole = 80\n",
    "hb = 11\n",
    "urine_protein = 200\n",
    "\n",
    "new_data = {\n",
    "    'ID Number': [new_id_number],\n",
    "    'Age': [age],\n",
    "    'Gestational Age': [gestational_age],\n",
    "    'Gravida': [gravida],\n",
    "    'Partus': [partus],\n",
    "    'Abortus': [abortus],\n",
    "    'History of Postpartum Hemorrhage': [history_postpartum],\n",
    "    'History of Hypertension': [history_hypertension],\n",
    "    'History of Anemia': [history_anemia],\n",
    "    'History of Kidney Disease': [history_kidney_disease],\n",
    "    'History of Heart Disease': [history_heart_disease], \n",
    "    'Systole': [systole],\n",
    "    'Diastole': [diastole], \n",
    "    'Hb': [hb],\n",
    "    'Urine protein level': [urine_protein]\n",
    "}\n",
    "\n",
    "new_df = pd.DataFrame(new_data)\n",
    "df = pd.concat([df, new_df], ignore_index=True)\n",
    "df = df.sort_values(by='ID Number')\n",
    "print(df)"
   ]
  },
  {
   "cell_type": "code",
   "execution_count": 7,
   "id": "188927fd-f615-4b7d-b630-338183a9c507",
   "metadata": {},
   "outputs": [
    {
     "name": "stdout",
     "output_type": "stream",
     "text": [
      "   ID Number  Age  Gestational Age  Gravida  Partus  Abortus  \\\n",
      "0   20240001   28               20        1       0        0   \n",
      "1   20240002   34               39        1       0        0   \n",
      "2   20240003   40               36        1       0        0   \n",
      "3   20240004   25               40        1       0        0   \n",
      "4   20240005   37               37        1       0        0   \n",
      "5   20240006   25               30        1       0        0   \n",
      "6   20240006   20               25        3       1        4   \n",
      "\n",
      "   History of Postpartum Hemorrhage  History of Hypertension  \\\n",
      "0                             False                    False   \n",
      "1                              True                    False   \n",
      "2                             False                     True   \n",
      "3                             False                    False   \n",
      "4                             False                    False   \n",
      "5                             False                    False   \n",
      "6                              True                     True   \n",
      "\n",
      "   History of Anemia  History of Kidney Disease  History of Heart Disease  \\\n",
      "0              False                      False                     False   \n",
      "1              False                      False                     False   \n",
      "2              False                      False                     False   \n",
      "3              False                      False                     False   \n",
      "4               True                       True                      True   \n",
      "5              False                      False                     False   \n",
      "6               True                       True                     False   \n",
      "\n",
      "   Systole  Diastole  Hb  Urine protein level  \n",
      "0      120        80  11                  200  \n",
      "1      120        80  11                  200  \n",
      "2      120        80  11                  200  \n",
      "3      120        80  11                  200  \n",
      "4      120        80  11                  200  \n",
      "5      120        80  11                  200  \n",
      "6      106        85  10                  313  \n"
     ]
    }
   ],
   "source": [
    "\"\"\" Add more random case examples in the dataset \"\"\"\n",
    "\n",
    "import random\n",
    "\n",
    "# Number of new rows to generate\n",
    "num_new_rows = 1 # change the number of additional data wanted here\n",
    "\n",
    "# Get the last ID number to generate new sequential IDs\n",
    "last_id_number = df['ID Number'].max()\n",
    "\n",
    "# Function to generate random data for each column, with sequential ID numbers\n",
    "def generate_random_data(id_number):\n",
    "    age = random.randint(20, 40)  # Random age between 20 and 40\n",
    "    gestational_age = random.randint(24, 42)  # Random gestational age between 36 and 42 weeks\n",
    "    gravida = random.randint(1, 4)\n",
    "    partus = random.randint(1, 4)\n",
    "    abortus = random.randint(1, 4)\n",
    "    history_postpartum = random.choice([True, False])  # Random boolean for postpartum hemorrhage\n",
    "    history_hypertension = random.choice([True, False])  # Random boolean for hypertension\n",
    "    history_anemia = random.choice([True, False])  # Random boolean for anemia\n",
    "    history_kidney_disease = random.choice([True, False])  # Random boolean for kidney disease\n",
    "    history_heart_disease = random.choice([True, False])  # Random boolean for heart disease\n",
    "    systole = random.randint(100, 150)\n",
    "    diastole = random.randint(70, 100)\n",
    "    hb = random.randint(9, 12)\n",
    "    urine_protein = random.randint(150, 400)\n",
    "    return {\n",
    "        'ID Number': new_id_number,\n",
    "        'Age': age,\n",
    "        'Gestational Age': gestational_age,\n",
    "        'Gravida': gravida,\n",
    "        'Partus': partus,\n",
    "        'Abortus': abortus,\n",
    "        'History of Postpartum Hemorrhage': history_postpartum,\n",
    "        'History of Hypertension': history_hypertension,\n",
    "        'History of Anemia': history_anemia,\n",
    "        'History of Kidney Disease': history_kidney_disease,\n",
    "        'History of Heart Disease': history_heart_disease, \n",
    "        'Systole': systole,\n",
    "        'Diastole': diastole, \n",
    "        'Hb': hb,\n",
    "        'Urine protein level': urine_protein\n",
    "    }\n",
    "\n",
    "# Generate new data and append to the DataFrame\n",
    "new_data = [generate_random_data(last_id_number + i + 1) for i in range(num_new_rows)]\n",
    "new_df = pd.DataFrame(new_data)\n",
    "\n",
    "# Append the new data to the original DataFrame\n",
    "df = pd.concat([df, new_df], ignore_index=True)\n",
    "\n",
    "# Sort the DataFrame by 'ID Number'\n",
    "df = df.sort_values(by='ID Number')\n",
    "\n",
    "# Display the sorted DataFrame\n",
    "print(df)"
   ]
  },
  {
   "cell_type": "code",
   "execution_count": 9,
   "id": "775f467d-8865-4c97-8e55-e68368216b7e",
   "metadata": {},
   "outputs": [
    {
     "name": "stdout",
     "output_type": "stream",
     "text": [
      "ID Number: 20240001, Age: 28, Gestational Age: 20, Gravida: 1, Partus: 0, Abortus: 0, History of Postpartum Hemorrhage: False, History of Hypertension: False, History of Anemia: False, History of Kidney Disease: False, History of Heart Disease: False, Systole: 120, Diastole: 80, Hb: 11, Urine protein level: 200. Tentukan risiko kehamilan, perlu rujukan atau tidak, dan kapan sebaiknya dirujuk.\n",
      "ID Number: 20240002, Age: 34, Gestational Age: 39, Gravida: 1, Partus: 0, Abortus: 0, History of Postpartum Hemorrhage: True, History of Hypertension: False, History of Anemia: False, History of Kidney Disease: False, History of Heart Disease: False, Systole: 120, Diastole: 80, Hb: 11, Urine protein level: 200. Tentukan risiko kehamilan, perlu rujukan atau tidak, dan kapan sebaiknya dirujuk.\n",
      "ID Number: 20240003, Age: 40, Gestational Age: 36, Gravida: 1, Partus: 0, Abortus: 0, History of Postpartum Hemorrhage: False, History of Hypertension: True, History of Anemia: False, History of Kidney Disease: False, History of Heart Disease: False, Systole: 120, Diastole: 80, Hb: 11, Urine protein level: 200. Tentukan risiko kehamilan, perlu rujukan atau tidak, dan kapan sebaiknya dirujuk.\n",
      "ID Number: 20240004, Age: 25, Gestational Age: 40, Gravida: 1, Partus: 0, Abortus: 0, History of Postpartum Hemorrhage: False, History of Hypertension: False, History of Anemia: False, History of Kidney Disease: False, History of Heart Disease: False, Systole: 120, Diastole: 80, Hb: 11, Urine protein level: 200. Tentukan risiko kehamilan, perlu rujukan atau tidak, dan kapan sebaiknya dirujuk.\n",
      "ID Number: 20240005, Age: 37, Gestational Age: 37, Gravida: 1, Partus: 0, Abortus: 0, History of Postpartum Hemorrhage: False, History of Hypertension: False, History of Anemia: True, History of Kidney Disease: True, History of Heart Disease: True, Systole: 120, Diastole: 80, Hb: 11, Urine protein level: 200. Tentukan risiko kehamilan, perlu rujukan atau tidak, dan kapan sebaiknya dirujuk.\n",
      "ID Number: 20240006, Age: 25, Gestational Age: 30, Gravida: 1, Partus: 0, Abortus: 0, History of Postpartum Hemorrhage: False, History of Hypertension: False, History of Anemia: False, History of Kidney Disease: False, History of Heart Disease: False, Systole: 120, Diastole: 80, Hb: 11, Urine protein level: 200. Tentukan risiko kehamilan, perlu rujukan atau tidak, dan kapan sebaiknya dirujuk.\n",
      "ID Number: 20240006, Age: 20, Gestational Age: 25, Gravida: 3, Partus: 1, Abortus: 4, History of Postpartum Hemorrhage: True, History of Hypertension: True, History of Anemia: True, History of Kidney Disease: True, History of Heart Disease: False, Systole: 106, Diastole: 85, Hb: 10, Urine protein level: 313. Tentukan risiko kehamilan, perlu rujukan atau tidak, dan kapan sebaiknya dirujuk.\n"
     ]
    }
   ],
   "source": [
    "\"\"\" Generate a prompt in text based on the dataframe \"\"\"\n",
    "\n",
    "for index, row in df.iterrows():\n",
    "    row_text = \", \".join([f\"{col}: {value}\" for col, value in row.items()])\n",
    "    user_prompt = f\"{row_text}. Tentukan risiko kehamilan, perlu rujukan atau tidak, dan kapan sebaiknya dirujuk.\"\n",
    "    print(user_prompt) # uncomment to check the prompt"
   ]
  },
  {
   "cell_type": "code",
   "execution_count": 13,
   "id": "0558faa1-269e-4637-961f-e5ecaaed9b05",
   "metadata": {},
   "outputs": [
    {
     "name": "stdout",
     "output_type": "stream",
     "text": [
      "Prompt: ID Number: 20240006, Age: 20, Gestational Age: 25, Gravida: 3, Partus: 1, Abortus: 4, History of Postpartum Hemorrhage: True, History of Hypertension: True, History of Anemia: True, History of Kidney Disease: True, History of Heart Disease: False, Systole: 106, Diastole: 85, Hb: 10, Urine protein level: 313. Tentukan risiko kehamilan, perlu rujukan atau tidak, dan kapan sebaiknya dirujuk.\n",
      "\n",
      "\n",
      "Response: Berdasarkan informasi yang diberikan, pasien ini memiliki beberapa faktor risiko yang meningkatkan risiko kehamilan, seperti riwayat hipertensi, anemia, penyakit ginjal, dan riwayat kehamilan yang tidak berhasil. Dengan skor awal yang cukup tinggi, pasien ini termasuk dalam kategori risiko tinggi selama kehamilan.\n",
      "\n",
      "Dengan adanya riwayat postpartum hemorrhage sebelumnya, pasien perlu dipantau dengan lebih cermat selama kehamilan ini untuk mencegah terjadinya komplikasi serupa. Pengukuran tekanan darah dan pemeriksaan urine protein secara rutin juga diperlukan untuk memantau perkembangan kehamilan.\n",
      "\n",
      "Dengan kondisi saat ini, perlu dilakukan rujukan ke dokter spesialis kebidanan dan kandungan untuk pemantauan dan penanganan yang lebih intensif. Rujukan sebaiknya dilakukan segera untuk mencegah kemungkinan terjadinya komplikasi serius selama kehamilan.\n"
     ]
    }
   ],
   "source": [
    "\"\"\" GPT API \"\"\"\n",
    "import openai\n",
    "import os\n",
    "\n",
    "max_token = 100\n",
    "model=\"gpt-3.5-turbo\"\n",
    "# model=\"gpt-4o-mini\"\n",
    "\n",
    "def get_completion(user_prompt, model):\n",
    "    response = openai.ChatCompletion.create(\n",
    "        model=model,\n",
    "        messages=[{\"role\": \"user\", \"content\": user_prompt}], # can use system, user, or assistant role\n",
    "    )\n",
    "    return response.choices[0].message[\"content\"]\n",
    "\n",
    "response = get_completion(user_prompt, model)\n",
    "print(f\"Prompt: {user_prompt}\")\n",
    "print(\"\")\n",
    "print(\"\")\n",
    "print(f\"Response: {response}\")"
   ]
  },
  {
   "cell_type": "code",
   "execution_count": 28,
   "id": "a7c830e8-b065-4369-949c-47ab34b26d37",
   "metadata": {},
   "outputs": [
    {
     "name": "stdout",
     "output_type": "stream",
     "text": [
      "0.28.0\n"
     ]
    }
   ],
   "source": [
    "import openai\n",
    "print(openai.__version__)\n"
   ]
  },
  {
   "cell_type": "code",
   "execution_count": null,
   "id": "6e81b5d7-d759-43a9-8d1f-78a281bc4b15",
   "metadata": {},
   "outputs": [],
   "source": []
  }
 ],
 "metadata": {
  "kernelspec": {
   "display_name": "Python 3 (ipykernel)",
   "language": "python",
   "name": "python3"
  },
  "language_info": {
   "codemirror_mode": {
    "name": "ipython",
    "version": 3
   },
   "file_extension": ".py",
   "mimetype": "text/x-python",
   "name": "python",
   "nbconvert_exporter": "python",
   "pygments_lexer": "ipython3",
   "version": "3.12.7"
  }
 },
 "nbformat": 4,
 "nbformat_minor": 5
}
